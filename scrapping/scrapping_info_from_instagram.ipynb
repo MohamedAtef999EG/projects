{
  "nbformat": 4,
  "nbformat_minor": 0,
  "metadata": {
    "colab": {
      "name": "scrapping info from instagram.ipynb",
      "provenance": []
    },
    "kernelspec": {
      "name": "python3",
      "display_name": "Python 3"
    },
    "language_info": {
      "name": "python"
    }
  },
  "cells": [
    {
      "cell_type": "code",
      "source": [
        "!pip install instaloader\n",
        "import instaloader\n",
        "\n",
        "# Create an instance of Instaloader class\n",
        "bot = instaloader.Instaloader()\n",
        "\n",
        "# Load a profile from an Instagram handle\n",
        "profile = instaloader.Profile.from_username(bot.context, 'aman.kharwal')\n",
        "\n",
        "print(type(profile))"
      ],
      "metadata": {
        "colab": {
          "base_uri": "https://localhost:8080/"
        },
        "id": "1El6vvuAKwl2",
        "outputId": "244dbe65-cc31-4d37-cb0a-21314754a3bd"
      },
      "execution_count": 8,
      "outputs": [
        {
          "output_type": "stream",
          "name": "stdout",
          "text": [
            "Collecting instaloader\n",
            "  Downloading instaloader-4.8.4.tar.gz (54 kB)\n",
            "\u001b[?25l\r\u001b[K     |██████                          | 10 kB 16.7 MB/s eta 0:00:01\r\u001b[K     |████████████                    | 20 kB 9.3 MB/s eta 0:00:01\r\u001b[K     |██████████████████▏             | 30 kB 8.6 MB/s eta 0:00:01\r\u001b[K     |████████████████████████▏       | 40 kB 7.9 MB/s eta 0:00:01\r\u001b[K     |██████████████████████████████▏ | 51 kB 4.9 MB/s eta 0:00:01\r\u001b[K     |████████████████████████████████| 54 kB 1.5 MB/s \n",
            "\u001b[?25hRequirement already satisfied: requests>=2.4 in /usr/local/lib/python3.7/dist-packages (from instaloader) (2.23.0)\n",
            "Requirement already satisfied: idna<3,>=2.5 in /usr/local/lib/python3.7/dist-packages (from requests>=2.4->instaloader) (2.10)\n",
            "Requirement already satisfied: chardet<4,>=3.0.2 in /usr/local/lib/python3.7/dist-packages (from requests>=2.4->instaloader) (3.0.4)\n",
            "Requirement already satisfied: certifi>=2017.4.17 in /usr/local/lib/python3.7/dist-packages (from requests>=2.4->instaloader) (2021.10.8)\n",
            "Requirement already satisfied: urllib3!=1.25.0,!=1.25.1,<1.26,>=1.21.1 in /usr/local/lib/python3.7/dist-packages (from requests>=2.4->instaloader) (1.24.3)\n",
            "Building wheels for collected packages: instaloader\n",
            "  Building wheel for instaloader (setup.py) ... \u001b[?25l\u001b[?25hdone\n",
            "  Created wheel for instaloader: filename=instaloader-4.8.4-py3-none-any.whl size=58802 sha256=25945cc701473edb15712616293149764e2ea8eae878baaa6c6687bcaeafd42d\n",
            "  Stored in directory: /root/.cache/pip/wheels/57/41/71/b3a2e3ce18841b9db8a955ca7257439aa6bad8a87806b9eb9c\n",
            "Successfully built instaloader\n",
            "Installing collected packages: instaloader\n",
            "Successfully installed instaloader-4.8.4\n",
            "<class 'instaloader.structures.Profile'>\n"
          ]
        }
      ]
    },
    {
      "cell_type": "code",
      "source": [
        "print(\"Username: \", profile.username)\n",
        "print(\"User ID: \", profile.userid)\n",
        "print(\"Number of Posts: \", profile.mediacount)\n",
        "print(\"Followers: \", profile.followers)\n",
        "print(\"Followees: \", profile.followees)\n",
        "print(\"Bio: \", profile.biography,profile.external_url)"
      ],
      "metadata": {
        "colab": {
          "base_uri": "https://localhost:8080/"
        },
        "id": "y5IlPD-6Kwn5",
        "outputId": "f603ec94-07df-4f40-fe98-d14745479351"
      },
      "execution_count": 9,
      "outputs": [
        {
          "output_type": "stream",
          "name": "stdout",
          "text": [
            "Username:  aman.kharwal\n",
            "User ID:  2046127138\n",
            "Number of Posts:  17\n",
            "Followers:  295\n",
            "Followees:  50\n",
            "Bio:  I love conversations about business ideas, personal growth, and mental health🌺\n",
            "Founder @the.clever.programmer None\n"
          ]
        }
      ]
    },
    {
      "cell_type": "code",
      "source": [
        ""
      ],
      "metadata": {
        "id": "BoMw6-DWLLpi"
      },
      "execution_count": null,
      "outputs": []
    }
  ]
}