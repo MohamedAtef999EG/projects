{
  "nbformat": 4,
  "nbformat_minor": 0,
  "metadata": {
    "colab": {
      "name": "scrapping info from youtube.ipynb",
      "provenance": []
    },
    "kernelspec": {
      "name": "python3",
      "display_name": "Python 3"
    },
    "language_info": {
      "name": "python"
    }
  },
  "cells": [
    {
      "cell_type": "code",
      "source": [
        "pip install pytube"
      ],
      "metadata": {
        "colab": {
          "base_uri": "https://localhost:8080/"
        },
        "id": "JX9cZB2UKJWO",
        "outputId": "d88e7926-cbb6-4355-e5e5-7d309bcce9f3"
      },
      "execution_count": 2,
      "outputs": [
        {
          "output_type": "stream",
          "name": "stdout",
          "text": [
            "Collecting pytube\n",
            "  Downloading pytube-11.0.2-py3-none-any.whl (56 kB)\n",
            "\u001b[?25l\r\u001b[K     |█████▉                          | 10 kB 20.0 MB/s eta 0:00:01\r\u001b[K     |███████████▋                    | 20 kB 10.2 MB/s eta 0:00:01\r\u001b[K     |█████████████████▌              | 30 kB 8.8 MB/s eta 0:00:01\r\u001b[K     |███████████████████████▎        | 40 kB 8.1 MB/s eta 0:00:01\r\u001b[K     |█████████████████████████████▏  | 51 kB 5.3 MB/s eta 0:00:01\r\u001b[K     |████████████████████████████████| 56 kB 2.4 MB/s \n",
            "\u001b[?25hInstalling collected packages: pytube\n",
            "Successfully installed pytube-11.0.2\n"
          ]
        }
      ]
    },
    {
      "cell_type": "code",
      "execution_count": 3,
      "metadata": {
        "id": "CoptMqF1J5j0"
      },
      "outputs": [],
      "source": [
        "from pytube import YouTube\n"
      ]
    },
    {
      "cell_type": "code",
      "source": [
        "link = input(\"Enter Link of Youtube Video: \")\n",
        "yt = YouTube(link)"
      ],
      "metadata": {
        "colab": {
          "base_uri": "https://localhost:8080/"
        },
        "id": "l-nXL818J-bJ",
        "outputId": "eea31add-7dd3-4518-f139-6bd2e66453bd"
      },
      "execution_count": 5,
      "outputs": [
        {
          "name": "stdout",
          "output_type": "stream",
          "text": [
            "Enter Link of Youtube Video: https://www.youtube.com/watch?v=21EiKfQYZXc\n"
          ]
        }
      ]
    },
    {
      "cell_type": "code",
      "source": [
        "# To print title\n",
        "print(\"Title :\", yt.title)\n",
        "# To get number of views\n",
        "print(\"Views :\", yt.views)\n",
        "# To get the length of video\n",
        "print(\"Duration :\", yt.length)\n",
        "# To get description\n",
        "print(\"Description :\", yt.description)\n",
        "# To get ratings\n",
        "print(\"Ratings :\", yt.rating)"
      ],
      "metadata": {
        "colab": {
          "base_uri": "https://localhost:8080/"
        },
        "id": "ZgqcIyaVKUBR",
        "outputId": "bc65dbbb-ad93-4054-e02e-1c8ff61891c9"
      },
      "execution_count": 6,
      "outputs": [
        {
          "output_type": "stream",
          "name": "stdout",
          "text": [
            "Title : Andrew Ng: Artificial Intelligence is the New Electricity\n",
            "Views : 474111\n",
            "Duration : 5264\n",
            "Description : On Wednesday, January 25, 2017, Baidu chief scientist, Coursera co-founder, and Stanford adjunct professor Andrew Ng spoke at the Stanford MSx Future Forum. The Future Forum is a discussion series that explores the trends that are changing the future. During his talk, Professor Ng discussed how artificial intelligence (AI) is transforming industry after industry. \n",
            "\n",
            "Learn more about the Stanford MSx Program: http://stanford.io/2k03Bgt\n",
            "Ratings : None\n"
          ]
        }
      ]
    },
    {
      "cell_type": "code",
      "source": [
        ""
      ],
      "metadata": {
        "id": "JGgwuzacKgVH"
      },
      "execution_count": null,
      "outputs": []
    }
  ]
}