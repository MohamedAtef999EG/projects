{
  "nbformat": 4,
  "nbformat_minor": 0,
  "metadata": {
    "colab": {
      "name": "mobil prediction ANN.ipynb",
      "provenance": []
    },
    "kernelspec": {
      "name": "python3",
      "display_name": "Python 3"
    },
    "language_info": {
      "name": "python"
    }
  },
  "cells": [
    {
      "cell_type": "code",
      "execution_count": 9,
      "metadata": {
        "id": "BOOvUoBFNMXR"
      },
      "outputs": [],
      "source": [
        "import pandas as pd"
      ]
    },
    {
      "cell_type": "code",
      "source": [
        "df=pd.read_csv('/content/train.csv')\n",
        "df.head()"
      ],
      "metadata": {
        "colab": {
          "base_uri": "https://localhost:8080/",
          "height": 270
        },
        "id": "MzhNC6JHPbo-",
        "outputId": "2639a3c5-9c74-4579-d734-9a02d21b677b"
      },
      "execution_count": 10,
      "outputs": [
        {
          "output_type": "execute_result",
          "data": {
            "text/html": [
              "\n",
              "  <div id=\"df-289c0d31-4c54-4548-98ea-5946aff8622e\">\n",
              "    <div class=\"colab-df-container\">\n",
              "      <div>\n",
              "<style scoped>\n",
              "    .dataframe tbody tr th:only-of-type {\n",
              "        vertical-align: middle;\n",
              "    }\n",
              "\n",
              "    .dataframe tbody tr th {\n",
              "        vertical-align: top;\n",
              "    }\n",
              "\n",
              "    .dataframe thead th {\n",
              "        text-align: right;\n",
              "    }\n",
              "</style>\n",
              "<table border=\"1\" class=\"dataframe\">\n",
              "  <thead>\n",
              "    <tr style=\"text-align: right;\">\n",
              "      <th></th>\n",
              "      <th>battery_power</th>\n",
              "      <th>blue</th>\n",
              "      <th>clock_speed</th>\n",
              "      <th>dual_sim</th>\n",
              "      <th>fc</th>\n",
              "      <th>four_g</th>\n",
              "      <th>int_memory</th>\n",
              "      <th>m_dep</th>\n",
              "      <th>mobile_wt</th>\n",
              "      <th>n_cores</th>\n",
              "      <th>pc</th>\n",
              "      <th>px_height</th>\n",
              "      <th>px_width</th>\n",
              "      <th>ram</th>\n",
              "      <th>sc_h</th>\n",
              "      <th>sc_w</th>\n",
              "      <th>talk_time</th>\n",
              "      <th>three_g</th>\n",
              "      <th>touch_screen</th>\n",
              "      <th>wifi</th>\n",
              "      <th>price_range</th>\n",
              "    </tr>\n",
              "  </thead>\n",
              "  <tbody>\n",
              "    <tr>\n",
              "      <th>0</th>\n",
              "      <td>842</td>\n",
              "      <td>0</td>\n",
              "      <td>2.2</td>\n",
              "      <td>0</td>\n",
              "      <td>1</td>\n",
              "      <td>0</td>\n",
              "      <td>7</td>\n",
              "      <td>0.6</td>\n",
              "      <td>188</td>\n",
              "      <td>2</td>\n",
              "      <td>2</td>\n",
              "      <td>20</td>\n",
              "      <td>756</td>\n",
              "      <td>2549</td>\n",
              "      <td>9</td>\n",
              "      <td>7</td>\n",
              "      <td>19</td>\n",
              "      <td>0</td>\n",
              "      <td>0</td>\n",
              "      <td>1</td>\n",
              "      <td>1</td>\n",
              "    </tr>\n",
              "    <tr>\n",
              "      <th>1</th>\n",
              "      <td>1021</td>\n",
              "      <td>1</td>\n",
              "      <td>0.5</td>\n",
              "      <td>1</td>\n",
              "      <td>0</td>\n",
              "      <td>1</td>\n",
              "      <td>53</td>\n",
              "      <td>0.7</td>\n",
              "      <td>136</td>\n",
              "      <td>3</td>\n",
              "      <td>6</td>\n",
              "      <td>905</td>\n",
              "      <td>1988</td>\n",
              "      <td>2631</td>\n",
              "      <td>17</td>\n",
              "      <td>3</td>\n",
              "      <td>7</td>\n",
              "      <td>1</td>\n",
              "      <td>1</td>\n",
              "      <td>0</td>\n",
              "      <td>2</td>\n",
              "    </tr>\n",
              "    <tr>\n",
              "      <th>2</th>\n",
              "      <td>563</td>\n",
              "      <td>1</td>\n",
              "      <td>0.5</td>\n",
              "      <td>1</td>\n",
              "      <td>2</td>\n",
              "      <td>1</td>\n",
              "      <td>41</td>\n",
              "      <td>0.9</td>\n",
              "      <td>145</td>\n",
              "      <td>5</td>\n",
              "      <td>6</td>\n",
              "      <td>1263</td>\n",
              "      <td>1716</td>\n",
              "      <td>2603</td>\n",
              "      <td>11</td>\n",
              "      <td>2</td>\n",
              "      <td>9</td>\n",
              "      <td>1</td>\n",
              "      <td>1</td>\n",
              "      <td>0</td>\n",
              "      <td>2</td>\n",
              "    </tr>\n",
              "    <tr>\n",
              "      <th>3</th>\n",
              "      <td>615</td>\n",
              "      <td>1</td>\n",
              "      <td>2.5</td>\n",
              "      <td>0</td>\n",
              "      <td>0</td>\n",
              "      <td>0</td>\n",
              "      <td>10</td>\n",
              "      <td>0.8</td>\n",
              "      <td>131</td>\n",
              "      <td>6</td>\n",
              "      <td>9</td>\n",
              "      <td>1216</td>\n",
              "      <td>1786</td>\n",
              "      <td>2769</td>\n",
              "      <td>16</td>\n",
              "      <td>8</td>\n",
              "      <td>11</td>\n",
              "      <td>1</td>\n",
              "      <td>0</td>\n",
              "      <td>0</td>\n",
              "      <td>2</td>\n",
              "    </tr>\n",
              "    <tr>\n",
              "      <th>4</th>\n",
              "      <td>1821</td>\n",
              "      <td>1</td>\n",
              "      <td>1.2</td>\n",
              "      <td>0</td>\n",
              "      <td>13</td>\n",
              "      <td>1</td>\n",
              "      <td>44</td>\n",
              "      <td>0.6</td>\n",
              "      <td>141</td>\n",
              "      <td>2</td>\n",
              "      <td>14</td>\n",
              "      <td>1208</td>\n",
              "      <td>1212</td>\n",
              "      <td>1411</td>\n",
              "      <td>8</td>\n",
              "      <td>2</td>\n",
              "      <td>15</td>\n",
              "      <td>1</td>\n",
              "      <td>1</td>\n",
              "      <td>0</td>\n",
              "      <td>1</td>\n",
              "    </tr>\n",
              "  </tbody>\n",
              "</table>\n",
              "</div>\n",
              "      <button class=\"colab-df-convert\" onclick=\"convertToInteractive('df-289c0d31-4c54-4548-98ea-5946aff8622e')\"\n",
              "              title=\"Convert this dataframe to an interactive table.\"\n",
              "              style=\"display:none;\">\n",
              "        \n",
              "  <svg xmlns=\"http://www.w3.org/2000/svg\" height=\"24px\"viewBox=\"0 0 24 24\"\n",
              "       width=\"24px\">\n",
              "    <path d=\"M0 0h24v24H0V0z\" fill=\"none\"/>\n",
              "    <path d=\"M18.56 5.44l.94 2.06.94-2.06 2.06-.94-2.06-.94-.94-2.06-.94 2.06-2.06.94zm-11 1L8.5 8.5l.94-2.06 2.06-.94-2.06-.94L8.5 2.5l-.94 2.06-2.06.94zm10 10l.94 2.06.94-2.06 2.06-.94-2.06-.94-.94-2.06-.94 2.06-2.06.94z\"/><path d=\"M17.41 7.96l-1.37-1.37c-.4-.4-.92-.59-1.43-.59-.52 0-1.04.2-1.43.59L10.3 9.45l-7.72 7.72c-.78.78-.78 2.05 0 2.83L4 21.41c.39.39.9.59 1.41.59.51 0 1.02-.2 1.41-.59l7.78-7.78 2.81-2.81c.8-.78.8-2.07 0-2.86zM5.41 20L4 18.59l7.72-7.72 1.47 1.35L5.41 20z\"/>\n",
              "  </svg>\n",
              "      </button>\n",
              "      \n",
              "  <style>\n",
              "    .colab-df-container {\n",
              "      display:flex;\n",
              "      flex-wrap:wrap;\n",
              "      gap: 12px;\n",
              "    }\n",
              "\n",
              "    .colab-df-convert {\n",
              "      background-color: #E8F0FE;\n",
              "      border: none;\n",
              "      border-radius: 50%;\n",
              "      cursor: pointer;\n",
              "      display: none;\n",
              "      fill: #1967D2;\n",
              "      height: 32px;\n",
              "      padding: 0 0 0 0;\n",
              "      width: 32px;\n",
              "    }\n",
              "\n",
              "    .colab-df-convert:hover {\n",
              "      background-color: #E2EBFA;\n",
              "      box-shadow: 0px 1px 2px rgba(60, 64, 67, 0.3), 0px 1px 3px 1px rgba(60, 64, 67, 0.15);\n",
              "      fill: #174EA6;\n",
              "    }\n",
              "\n",
              "    [theme=dark] .colab-df-convert {\n",
              "      background-color: #3B4455;\n",
              "      fill: #D2E3FC;\n",
              "    }\n",
              "\n",
              "    [theme=dark] .colab-df-convert:hover {\n",
              "      background-color: #434B5C;\n",
              "      box-shadow: 0px 1px 3px 1px rgba(0, 0, 0, 0.15);\n",
              "      filter: drop-shadow(0px 1px 2px rgba(0, 0, 0, 0.3));\n",
              "      fill: #FFFFFF;\n",
              "    }\n",
              "  </style>\n",
              "\n",
              "      <script>\n",
              "        const buttonEl =\n",
              "          document.querySelector('#df-289c0d31-4c54-4548-98ea-5946aff8622e button.colab-df-convert');\n",
              "        buttonEl.style.display =\n",
              "          google.colab.kernel.accessAllowed ? 'block' : 'none';\n",
              "\n",
              "        async function convertToInteractive(key) {\n",
              "          const element = document.querySelector('#df-289c0d31-4c54-4548-98ea-5946aff8622e');\n",
              "          const dataTable =\n",
              "            await google.colab.kernel.invokeFunction('convertToInteractive',\n",
              "                                                     [key], {});\n",
              "          if (!dataTable) return;\n",
              "\n",
              "          const docLinkHtml = 'Like what you see? Visit the ' +\n",
              "            '<a target=\"_blank\" href=https://colab.research.google.com/notebooks/data_table.ipynb>data table notebook</a>'\n",
              "            + ' to learn more about interactive tables.';\n",
              "          element.innerHTML = '';\n",
              "          dataTable['output_type'] = 'display_data';\n",
              "          await google.colab.output.renderOutput(dataTable, element);\n",
              "          const docLink = document.createElement('div');\n",
              "          docLink.innerHTML = docLinkHtml;\n",
              "          element.appendChild(docLink);\n",
              "        }\n",
              "      </script>\n",
              "    </div>\n",
              "  </div>\n",
              "  "
            ],
            "text/plain": [
              "   battery_power  blue  clock_speed  ...  touch_screen  wifi  price_range\n",
              "0            842     0          2.2  ...             0     1            1\n",
              "1           1021     1          0.5  ...             1     0            2\n",
              "2            563     1          0.5  ...             1     0            2\n",
              "3            615     1          2.5  ...             0     0            2\n",
              "4           1821     1          1.2  ...             1     0            1\n",
              "\n",
              "[5 rows x 21 columns]"
            ]
          },
          "metadata": {},
          "execution_count": 10
        }
      ]
    },
    {
      "cell_type": "code",
      "source": [
        "df.isnull().sum()"
      ],
      "metadata": {
        "colab": {
          "base_uri": "https://localhost:8080/"
        },
        "id": "5Pi60d9pPfoW",
        "outputId": "de279caa-6f3e-4e8c-bfba-30849c25abd9"
      },
      "execution_count": 11,
      "outputs": [
        {
          "output_type": "execute_result",
          "data": {
            "text/plain": [
              "battery_power    0\n",
              "blue             0\n",
              "clock_speed      0\n",
              "dual_sim         0\n",
              "fc               0\n",
              "four_g           0\n",
              "int_memory       0\n",
              "m_dep            0\n",
              "mobile_wt        0\n",
              "n_cores          0\n",
              "pc               0\n",
              "px_height        0\n",
              "px_width         0\n",
              "ram              0\n",
              "sc_h             0\n",
              "sc_w             0\n",
              "talk_time        0\n",
              "three_g          0\n",
              "touch_screen     0\n",
              "wifi             0\n",
              "price_range      0\n",
              "dtype: int64"
            ]
          },
          "metadata": {},
          "execution_count": 11
        }
      ]
    },
    {
      "cell_type": "code",
      "source": [
        "import seaborn as sns\n",
        "import matplotlib.pyplot as plt\n",
        "columns=df.columns\n",
        "for col in columns:\n",
        "    plt.figure()\n",
        "    sns.boxplot(y=df[col])"
      ],
      "metadata": {
        "colab": {
          "base_uri": "https://localhost:8080/",
          "height": 1000
        },
        "id": "HMBRKMM6Pj9k",
        "outputId": "78fafa06-98d3-473d-9009-5fcaa35b5844"
      },
      "execution_count": 12,
      "outputs": [
        {
          "output_type": "stream",
          "name": "stderr",
          "text": [
            "/usr/local/lib/python3.7/dist-packages/ipykernel_launcher.py:5: RuntimeWarning: More than 20 figures have been opened. Figures created through the pyplot interface (`matplotlib.pyplot.figure`) are retained until explicitly closed and may consume too much memory. (To control this warning, see the rcParam `figure.max_open_warning`).\n",
            "  \"\"\"\n"
          ]
        },
        {
          "output_type": "display_data",
          "data": {
            "image/png": "[encoded data removed]",
            "text/plain": [
              "<Figure size 432x288 with 1 Axes>"
            ]
          },
          "metadata": {
            "needs_background": "light"
          }
        },
        {
          "output_type": "display_data",
          "data": {
            "image/png": "[encoded data removed]",
            "text/plain": [
              "<Figure size 432x288 with 1 Axes>"
            ]
          },
          "metadata": {
            "needs_background": "light"
          }
        },
        {
          "output_type": "display_data",
          "data": {
            "image/png": "[encoded data removed]",
            "text/plain": [
              "<Figure size 432x288 with 1 Axes>"
            ]
          },
          "metadata": {
            "needs_background": "light"
          }
        },
        {
          "output_type": "display_data",
          "data": {
            "image/png": "[encoded data removed]",
            "text/plain": [
              "<Figure size 432x288 with 1 Axes>"
            ]
          },
          "metadata": {
            "needs_background": "light"
          }
        },
        {
          "output_type": "display_data",
          "data": {
            "image/png": "[encoded data removed]",
            "text/plain": [
              "<Figure size 432x288 with 1 Axes>"
            ]
          },
          "metadata": {
            "needs_background": "light"
          }
        },
        {
          "output_type": "display_data",
          "data": {
            "image/png": "[encoded data removed]",
            "text/plain": [
              "<Figure size 432x288 with 1 Axes>"
            ]
          },
          "metadata": {
            "needs_background": "light"
          }
        },
        {
          "output_type": "display_data",
          "data": {
            "image/png": "[encoded data removed]",
            "text/plain": [
              "<Figure size 432x288 with 1 Axes>"
            ]
          },
          "metadata": {
            "needs_background": "light"
          }
        },
        {
          "output_type": "display_data",
          "data": {
            "image/png": "[encoded data removed]",
            "text/plain": [
              "<Figure size 432x288 with 1 Axes>"
            ]
          },
          "metadata": {
            "needs_background": "light"
          }
        },
        {
          "output_type": "display_data",
          "data": {
            "image/png": "[encoded data removed]",
            "text/plain": [
              "<Figure size 432x288 with 1 Axes>"
            ]
          },
          "metadata": {
            "needs_background": "light"
          }
        },
        {
          "output_type": "display_data",
          "data": {
            "image/png": "[encoded data removed]",
            "text/plain": [
              "<Figure size 432x288 with 1 Axes>"
            ]
          },
          "metadata": {
            "needs_background": "light"
          }
        },
        {
          "output_type": "display_data",
          "data": {
            "image/png": "[encoded data removed]",
            "text/plain": [
              "<Figure size 432x288 with 1 Axes>"
            ]
          },
          "metadata": {
            "needs_background": "light"
          }
        },
        {
          "output_type": "display_data",
          "data": {
            "image/png": "[encoded data removed]",
            "text/plain": [
              "<Figure size 432x288 with 1 Axes>"
            ]
          },
          "metadata": {
            "needs_background": "light"
          }
        },
        {
          "output_type": "display_data",
          "data": {
            "image/png": "[encoded data removed]",
            "text/plain": [
              "<Figure size 432x288 with 1 Axes>"
            ]
          },
          "metadata": {
            "needs_background": "light"
          }
        },
        {
          "output_type": "display_data",
          "data": {
            "image/png": "[encoded data removed]",
            "text/plain": [
              "<Figure size 432x288 with 1 Axes>"
            ]
          },
          "metadata": {
            "needs_background": "light"
          }
        },
        {
          "output_type": "display_data",
          "data": {
            "image/png": "[encoded data removed]",
            "text/plain": [
              "<Figure size 432x288 with 1 Axes>"
            ]
          },
          "metadata": {
            "needs_background": "light"
          }
        },
        {
          "output_type": "display_data",
          "data": {
            "image/png": "[encoded data removed]",
            "text/plain": [
              "<Figure size 432x288 with 1 Axes>"
            ]
          },
          "metadata": {
            "needs_background": "light"
          }
        },
        {
          "output_type": "display_data",
          "data": {
            "image/png": "[encoded data removed]",
            "text/plain": [
              "<Figure size 432x288 with 1 Axes>"
            ]
          },
          "metadata": {
            "needs_background": "light"
          }
        },
        {
          "output_type": "display_data",
          "data": {
            "image/png": "[encoded data removed]",
            "text/plain": [
              "<Figure size 432x288 with 1 Axes>"
            ]
          },
          "metadata": {
            "needs_background": "light"
          }
        },
        {
          "output_type": "display_data",
          "data": {
            "image/png": "[encoded data removed]",
            "text/plain": [
              "<Figure size 432x288 with 1 Axes>"
            ]
          },
          "metadata": {
            "needs_background": "light"
          }
        },
        {
          "output_type": "display_data",
          "data": {
            "image/png": "[encoded data removed]",
            "text/plain": [
              "<Figure size 432x288 with 1 Axes>"
            ]
          },
          "metadata": {
            "needs_background": "light"
          }
        },
        {
          "output_type": "display_data",
          "data": {
            "image/png": "[encoded data removed]",
            "text/plain": [
              "<Figure size 432x288 with 1 Axes>"
            ]
          },
          "metadata": {
            "needs_background": "light"
          }
        }
      ]
    },
    {
      "cell_type": "code",
      "source": [
        "df.drop(df[df['fc']>15].index,axis=0,inplace=True)\n",
        "sns.boxplot(y=df['fc'])"
      ],
      "metadata": {
        "colab": {
          "base_uri": "https://localhost:8080/",
          "height": 269
        },
        "id": "2FOhb4kZPvqk",
        "outputId": "5d3ab09f-e58d-4a12-ec49-20c54dcde0c4"
      },
      "execution_count": 13,
      "outputs": [
        {
          "output_type": "execute_result",
          "data": {
            "text/plain": [
              "<matplotlib.axes._subplots.AxesSubplot at 0x7f4d6c349bd0>"
            ]
          },
          "metadata": {},
          "execution_count": 13
        },
        {
          "output_type": "display_data",
          "data": {
            "image/png": "[encoded data removed]",
            "text/plain": [
              "<Figure size 432x288 with 1 Axes>"
            ]
          },
          "metadata": {
            "needs_background": "light"
          }
        }
      ]
    },
    {
      "cell_type": "code",
      "source": [
        "x=df.drop('price_range',axis=1).values\n",
        "y=df['price_range'].values\n",
        "from tensorflow.keras.utils import to_categorical\n",
        "y=to_categorical(y)"
      ],
      "metadata": {
        "id": "oDXcIeIHQTBs"
      },
      "execution_count": 64,
      "outputs": []
    },
    {
      "cell_type": "code",
      "source": [
        "from sklearn.preprocessing import StandardScaler\n",
        "scaler=StandardScaler()\n",
        "x=scaler.fit_transform(x)\n",
        "x"
      ],
      "metadata": {
        "colab": {
          "base_uri": "https://localhost:8080/"
        },
        "id": "ZR9Gv_iYQlEW",
        "outputId": "d9538c31-e3b3-421b-8feb-7c1d2268e66d"
      },
      "execution_count": 65,
      "outputs": [
        {
          "output_type": "execute_result",
          "data": {
            "text/plain": [
              "array([[-0.90035658, -0.99186151,  0.83496726, ..., -1.77931376,\n",
              "        -1.0061476 ,  0.99592251],\n",
              "       [-0.49284008,  1.00820527, -1.24953886, ...,  0.56201443,\n",
              "         0.99388996, -1.00409418],\n",
              "       [-1.53553594,  1.00820527, -1.24953886, ...,  0.56201443,\n",
              "         0.99388996, -1.00409418],\n",
              "       ...,\n",
              "       [ 1.53335931, -0.99186151, -0.75906683, ...,  0.56201443,\n",
              "         0.99388996, -1.00409418],\n",
              "       [ 0.62498453, -0.99186151, -0.75906683, ...,  0.56201443,\n",
              "         0.99388996,  0.99592251],\n",
              "       [-1.65619725,  1.00820527,  0.58973124, ...,  0.56201443,\n",
              "         0.99388996,  0.99592251]])"
            ]
          },
          "metadata": {},
          "execution_count": 65
        }
      ]
    },
    {
      "cell_type": "code",
      "source": [
        "from sklearn.model_selection import train_test_split\n",
        "x_train,x_test,y_train,y_test=train_test_split(x,y,test_size=.2)"
      ],
      "metadata": {
        "id": "9lGI9NcGQuAw"
      },
      "execution_count": 66,
      "outputs": []
    },
    {
      "cell_type": "code",
      "source": [
        "import keras\n",
        "from keras.models import Sequential\n",
        "from keras.layers import Dense\n",
        "\n",
        "clf = Sequential()\n",
        "clf.add(Dense(8, activation='relu', input_shape=(20,)))\n",
        "clf.add(Dense(units = 6, activation = 'relu'))\n",
        "clf.add(Dense(units = 4, activation = 'sigmoid'))\n",
        "clf.compile(optimizer = \"adam\", loss = \"binary_crossentropy\", metrics = ['accuracy'])\n",
        "clf.fit(x_train, y_train, epochs=100, batch_size = 10,validation_data=[x_test, y_test])"
      ],
      "metadata": {
        "colab": {
          "base_uri": "https://localhost:8080/"
        },
        "id": "np1UNXClwduI",
        "outputId": "74ce4bf7-e9c3-4bbf-dc48-8efc7b29c836"
      },
      "execution_count": 76,
      "outputs": [
        {
          "output_type": "stream",
          "name": "stdout",
          "text": [
            "Epoch 1/100\n",
            "157/157 [==============================] - 2s 6ms/step - loss: 0.6494 - accuracy: 0.2458 - val_loss: 0.6116 - val_accuracy: 0.2270\n",
            "Epoch 2/100\n",
            "157/157 [==============================] - 1s 5ms/step - loss: 0.5986 - accuracy: 0.2484 - val_loss: 0.5834 - val_accuracy: 0.1990\n",
            "Epoch 3/100\n",
            "157/157 [==============================] - 0s 2ms/step - loss: 0.5766 - accuracy: 0.2784 - val_loss: 0.5687 - val_accuracy: 0.2526\n",
            "Epoch 4/100\n",
            "157/157 [==============================] - 0s 2ms/step - loss: 0.5625 - accuracy: 0.3103 - val_loss: 0.5559 - val_accuracy: 0.3189\n",
            "Epoch 5/100\n",
            "157/157 [==============================] - 0s 2ms/step - loss: 0.5454 - accuracy: 0.3602 - val_loss: 0.5345 - val_accuracy: 0.3724\n",
            "Epoch 6/100\n",
            "157/157 [==============================] - 1s 3ms/step - loss: 0.5139 - accuracy: 0.4374 - val_loss: 0.4904 - val_accuracy: 0.4413\n",
            "Epoch 7/100\n",
            "157/157 [==============================] - 1s 5ms/step - loss: 0.4539 - accuracy: 0.5358 - val_loss: 0.4180 - val_accuracy: 0.5969\n",
            "Epoch 8/100\n",
            "157/157 [==============================] - 0s 2ms/step - loss: 0.3890 - accuracy: 0.6066 - val_loss: 0.3640 - val_accuracy: 0.6276\n",
            "Epoch 9/100\n",
            "157/157 [==============================] - 0s 2ms/step - loss: 0.3476 - accuracy: 0.6654 - val_loss: 0.3306 - val_accuracy: 0.6990\n",
            "Epoch 10/100\n",
            "157/157 [==============================] - 0s 2ms/step - loss: 0.3177 - accuracy: 0.7254 - val_loss: 0.3034 - val_accuracy: 0.7347\n",
            "Epoch 11/100\n",
            "157/157 [==============================] - 0s 2ms/step - loss: 0.2908 - accuracy: 0.7561 - val_loss: 0.2793 - val_accuracy: 0.7755\n",
            "Epoch 12/100\n",
            "157/157 [==============================] - 0s 2ms/step - loss: 0.2663 - accuracy: 0.7950 - val_loss: 0.2597 - val_accuracy: 0.7755\n",
            "Epoch 13/100\n",
            "157/157 [==============================] - 0s 2ms/step - loss: 0.2445 - accuracy: 0.8180 - val_loss: 0.2409 - val_accuracy: 0.7934\n",
            "Epoch 14/100\n",
            "157/157 [==============================] - 0s 2ms/step - loss: 0.2248 - accuracy: 0.8410 - val_loss: 0.2248 - val_accuracy: 0.8087\n",
            "Epoch 15/100\n",
            "157/157 [==============================] - 0s 2ms/step - loss: 0.2065 - accuracy: 0.8627 - val_loss: 0.2086 - val_accuracy: 0.8265\n",
            "Epoch 16/100\n",
            "157/157 [==============================] - 0s 2ms/step - loss: 0.1897 - accuracy: 0.8863 - val_loss: 0.1955 - val_accuracy: 0.8393\n",
            "Epoch 17/100\n",
            "157/157 [==============================] - 0s 2ms/step - loss: 0.1739 - accuracy: 0.8966 - val_loss: 0.1780 - val_accuracy: 0.8648\n",
            "Epoch 18/100\n",
            "157/157 [==============================] - 0s 2ms/step - loss: 0.1601 - accuracy: 0.9132 - val_loss: 0.1643 - val_accuracy: 0.8724\n",
            "Epoch 19/100\n",
            "157/157 [==============================] - 0s 2ms/step - loss: 0.1471 - accuracy: 0.9259 - val_loss: 0.1524 - val_accuracy: 0.9056\n",
            "Epoch 20/100\n",
            "157/157 [==============================] - 0s 3ms/step - loss: 0.1352 - accuracy: 0.9330 - val_loss: 0.1406 - val_accuracy: 0.9209\n",
            "Epoch 21/100\n",
            "157/157 [==============================] - 0s 2ms/step - loss: 0.1252 - accuracy: 0.9393 - val_loss: 0.1310 - val_accuracy: 0.9235\n",
            "Epoch 22/100\n",
            "157/157 [==============================] - 0s 3ms/step - loss: 0.1158 - accuracy: 0.9425 - val_loss: 0.1237 - val_accuracy: 0.9235\n",
            "Epoch 23/100\n",
            "157/157 [==============================] - 0s 2ms/step - loss: 0.1074 - accuracy: 0.9502 - val_loss: 0.1171 - val_accuracy: 0.9311\n",
            "Epoch 24/100\n",
            "157/157 [==============================] - 0s 2ms/step - loss: 0.1003 - accuracy: 0.9521 - val_loss: 0.1096 - val_accuracy: 0.9311\n",
            "Epoch 25/100\n",
            "157/157 [==============================] - 0s 2ms/step - loss: 0.0942 - accuracy: 0.9553 - val_loss: 0.1031 - val_accuracy: 0.9311\n",
            "Epoch 26/100\n",
            "157/157 [==============================] - 0s 2ms/step - loss: 0.0889 - accuracy: 0.9566 - val_loss: 0.0995 - val_accuracy: 0.9388\n",
            "Epoch 27/100\n",
            "157/157 [==============================] - 0s 2ms/step - loss: 0.0838 - accuracy: 0.9591 - val_loss: 0.0939 - val_accuracy: 0.9362\n",
            "Epoch 28/100\n",
            "157/157 [==============================] - 0s 2ms/step - loss: 0.0794 - accuracy: 0.9585 - val_loss: 0.0900 - val_accuracy: 0.9388\n",
            "Epoch 29/100\n",
            "157/157 [==============================] - 0s 2ms/step - loss: 0.0755 - accuracy: 0.9636 - val_loss: 0.0866 - val_accuracy: 0.9413\n",
            "Epoch 30/100\n",
            "157/157 [==============================] - 0s 2ms/step - loss: 0.0719 - accuracy: 0.9642 - val_loss: 0.0841 - val_accuracy: 0.9413\n",
            "Epoch 31/100\n",
            "157/157 [==============================] - 0s 2ms/step - loss: 0.0688 - accuracy: 0.9687 - val_loss: 0.0814 - val_accuracy: 0.9439\n",
            "Epoch 32/100\n",
            "157/157 [==============================] - 0s 2ms/step - loss: 0.0659 - accuracy: 0.9668 - val_loss: 0.0798 - val_accuracy: 0.9490\n",
            "Epoch 33/100\n",
            "157/157 [==============================] - 0s 2ms/step - loss: 0.0635 - accuracy: 0.9674 - val_loss: 0.0776 - val_accuracy: 0.9413\n",
            "Epoch 34/100\n",
            "157/157 [==============================] - 0s 2ms/step - loss: 0.0609 - accuracy: 0.9693 - val_loss: 0.0739 - val_accuracy: 0.9490\n",
            "Epoch 35/100\n",
            "157/157 [==============================] - 0s 2ms/step - loss: 0.0590 - accuracy: 0.9700 - val_loss: 0.0730 - val_accuracy: 0.9439\n",
            "Epoch 36/100\n",
            "157/157 [==============================] - 0s 2ms/step - loss: 0.0571 - accuracy: 0.9706 - val_loss: 0.0729 - val_accuracy: 0.9388\n",
            "Epoch 37/100\n",
            "157/157 [==============================] - 0s 2ms/step - loss: 0.0552 - accuracy: 0.9757 - val_loss: 0.0710 - val_accuracy: 0.9439\n",
            "Epoch 38/100\n",
            "157/157 [==============================] - 0s 2ms/step - loss: 0.0531 - accuracy: 0.9738 - val_loss: 0.0689 - val_accuracy: 0.9541\n",
            "Epoch 39/100\n",
            "157/157 [==============================] - 0s 2ms/step - loss: 0.0513 - accuracy: 0.9732 - val_loss: 0.0664 - val_accuracy: 0.9464\n",
            "Epoch 40/100\n",
            "157/157 [==============================] - 0s 2ms/step - loss: 0.0500 - accuracy: 0.9796 - val_loss: 0.0660 - val_accuracy: 0.9413\n",
            "Epoch 41/100\n",
            "157/157 [==============================] - 0s 2ms/step - loss: 0.0489 - accuracy: 0.9738 - val_loss: 0.0653 - val_accuracy: 0.9464\n",
            "Epoch 42/100\n",
            "157/157 [==============================] - 0s 2ms/step - loss: 0.0474 - accuracy: 0.9777 - val_loss: 0.0639 - val_accuracy: 0.9464\n",
            "Epoch 43/100\n",
            "157/157 [==============================] - 0s 2ms/step - loss: 0.0461 - accuracy: 0.9745 - val_loss: 0.0626 - val_accuracy: 0.9439\n",
            "Epoch 44/100\n",
            "157/157 [==============================] - 0s 2ms/step - loss: 0.0455 - accuracy: 0.9757 - val_loss: 0.0624 - val_accuracy: 0.9439\n",
            "Epoch 45/100\n",
            "157/157 [==============================] - 0s 2ms/step - loss: 0.0444 - accuracy: 0.9738 - val_loss: 0.0641 - val_accuracy: 0.9439\n",
            "Epoch 46/100\n",
            "157/157 [==============================] - 0s 2ms/step - loss: 0.0433 - accuracy: 0.9802 - val_loss: 0.0612 - val_accuracy: 0.9541\n",
            "Epoch 47/100\n",
            "157/157 [==============================] - 0s 2ms/step - loss: 0.0427 - accuracy: 0.9770 - val_loss: 0.0622 - val_accuracy: 0.9464\n",
            "Epoch 48/100\n",
            "157/157 [==============================] - 0s 2ms/step - loss: 0.0421 - accuracy: 0.9808 - val_loss: 0.0593 - val_accuracy: 0.9592\n",
            "Epoch 49/100\n",
            "157/157 [==============================] - 0s 2ms/step - loss: 0.0405 - accuracy: 0.9796 - val_loss: 0.0579 - val_accuracy: 0.9566\n",
            "Epoch 50/100\n",
            "157/157 [==============================] - 0s 2ms/step - loss: 0.0398 - accuracy: 0.9821 - val_loss: 0.0592 - val_accuracy: 0.9464\n",
            "Epoch 51/100\n",
            "157/157 [==============================] - 0s 2ms/step - loss: 0.0393 - accuracy: 0.9764 - val_loss: 0.0595 - val_accuracy: 0.9515\n",
            "Epoch 52/100\n",
            "157/157 [==============================] - 0s 2ms/step - loss: 0.0385 - accuracy: 0.9815 - val_loss: 0.0579 - val_accuracy: 0.9490\n",
            "Epoch 53/100\n",
            "157/157 [==============================] - 0s 2ms/step - loss: 0.0371 - accuracy: 0.9770 - val_loss: 0.0578 - val_accuracy: 0.9515\n",
            "Epoch 54/100\n",
            "157/157 [==============================] - 0s 2ms/step - loss: 0.0364 - accuracy: 0.9821 - val_loss: 0.0577 - val_accuracy: 0.9566\n",
            "Epoch 55/100\n",
            "157/157 [==============================] - 0s 2ms/step - loss: 0.0360 - accuracy: 0.9815 - val_loss: 0.0592 - val_accuracy: 0.9490\n",
            "Epoch 56/100\n",
            "157/157 [==============================] - 0s 2ms/step - loss: 0.0363 - accuracy: 0.9796 - val_loss: 0.0572 - val_accuracy: 0.9515\n",
            "Epoch 57/100\n",
            "157/157 [==============================] - 0s 2ms/step - loss: 0.0343 - accuracy: 0.9834 - val_loss: 0.0549 - val_accuracy: 0.9592\n",
            "Epoch 58/100\n",
            "157/157 [==============================] - 0s 2ms/step - loss: 0.0338 - accuracy: 0.9853 - val_loss: 0.0613 - val_accuracy: 0.9413\n",
            "Epoch 59/100\n",
            "157/157 [==============================] - 0s 2ms/step - loss: 0.0343 - accuracy: 0.9815 - val_loss: 0.0547 - val_accuracy: 0.9566\n",
            "Epoch 60/100\n",
            "157/157 [==============================] - 0s 2ms/step - loss: 0.0330 - accuracy: 0.9802 - val_loss: 0.0547 - val_accuracy: 0.9541\n",
            "Epoch 61/100\n",
            "157/157 [==============================] - 0s 3ms/step - loss: 0.0323 - accuracy: 0.9821 - val_loss: 0.0554 - val_accuracy: 0.9592\n",
            "Epoch 62/100\n",
            "157/157 [==============================] - 0s 2ms/step - loss: 0.0323 - accuracy: 0.9860 - val_loss: 0.0539 - val_accuracy: 0.9617\n",
            "Epoch 63/100\n",
            "157/157 [==============================] - 0s 2ms/step - loss: 0.0314 - accuracy: 0.9802 - val_loss: 0.0560 - val_accuracy: 0.9541\n",
            "Epoch 64/100\n",
            "157/157 [==============================] - 0s 2ms/step - loss: 0.0309 - accuracy: 0.9847 - val_loss: 0.0509 - val_accuracy: 0.9566\n",
            "Epoch 65/100\n",
            "157/157 [==============================] - 0s 3ms/step - loss: 0.0307 - accuracy: 0.9860 - val_loss: 0.0537 - val_accuracy: 0.9592\n",
            "Epoch 66/100\n",
            "157/157 [==============================] - 0s 3ms/step - loss: 0.0300 - accuracy: 0.9847 - val_loss: 0.0545 - val_accuracy: 0.9566\n",
            "Epoch 67/100\n",
            "157/157 [==============================] - 0s 2ms/step - loss: 0.0294 - accuracy: 0.9834 - val_loss: 0.0533 - val_accuracy: 0.9617\n",
            "Epoch 68/100\n",
            "157/157 [==============================] - 0s 2ms/step - loss: 0.0292 - accuracy: 0.9866 - val_loss: 0.0533 - val_accuracy: 0.9541\n",
            "Epoch 69/100\n",
            "157/157 [==============================] - 0s 2ms/step - loss: 0.0288 - accuracy: 0.9860 - val_loss: 0.0543 - val_accuracy: 0.9515\n",
            "Epoch 70/100\n",
            "157/157 [==============================] - 0s 2ms/step - loss: 0.0287 - accuracy: 0.9885 - val_loss: 0.0509 - val_accuracy: 0.9592\n",
            "Epoch 71/100\n",
            "157/157 [==============================] - 0s 2ms/step - loss: 0.0277 - accuracy: 0.9840 - val_loss: 0.0545 - val_accuracy: 0.9515\n",
            "Epoch 72/100\n",
            "157/157 [==============================] - 0s 2ms/step - loss: 0.0273 - accuracy: 0.9866 - val_loss: 0.0521 - val_accuracy: 0.9566\n",
            "Epoch 73/100\n",
            "157/157 [==============================] - 0s 2ms/step - loss: 0.0270 - accuracy: 0.9866 - val_loss: 0.0552 - val_accuracy: 0.9490\n",
            "Epoch 74/100\n",
            "157/157 [==============================] - 0s 3ms/step - loss: 0.0267 - accuracy: 0.9879 - val_loss: 0.0518 - val_accuracy: 0.9541\n",
            "Epoch 75/100\n",
            "157/157 [==============================] - 0s 2ms/step - loss: 0.0265 - accuracy: 0.9866 - val_loss: 0.0517 - val_accuracy: 0.9541\n",
            "Epoch 76/100\n",
            "157/157 [==============================] - 0s 2ms/step - loss: 0.0261 - accuracy: 0.9872 - val_loss: 0.0530 - val_accuracy: 0.9566\n",
            "Epoch 77/100\n",
            "157/157 [==============================] - 0s 2ms/step - loss: 0.0256 - accuracy: 0.9866 - val_loss: 0.0516 - val_accuracy: 0.9541\n",
            "Epoch 78/100\n",
            "157/157 [==============================] - 0s 2ms/step - loss: 0.0252 - accuracy: 0.9879 - val_loss: 0.0523 - val_accuracy: 0.9515\n",
            "Epoch 79/100\n",
            "157/157 [==============================] - 0s 2ms/step - loss: 0.0256 - accuracy: 0.9872 - val_loss: 0.0538 - val_accuracy: 0.9541\n",
            "Epoch 80/100\n",
            "157/157 [==============================] - 0s 2ms/step - loss: 0.0247 - accuracy: 0.9879 - val_loss: 0.0507 - val_accuracy: 0.9592\n",
            "Epoch 81/100\n",
            "157/157 [==============================] - 0s 2ms/step - loss: 0.0248 - accuracy: 0.9860 - val_loss: 0.0506 - val_accuracy: 0.9592\n",
            "Epoch 82/100\n",
            "157/157 [==============================] - 0s 2ms/step - loss: 0.0242 - accuracy: 0.9898 - val_loss: 0.0492 - val_accuracy: 0.9592\n",
            "Epoch 83/100\n",
            "157/157 [==============================] - 0s 2ms/step - loss: 0.0236 - accuracy: 0.9879 - val_loss: 0.0550 - val_accuracy: 0.9541\n",
            "Epoch 84/100\n",
            "157/157 [==============================] - 0s 2ms/step - loss: 0.0224 - accuracy: 0.9898 - val_loss: 0.0533 - val_accuracy: 0.9617\n",
            "Epoch 85/100\n",
            "157/157 [==============================] - 0s 2ms/step - loss: 0.0231 - accuracy: 0.9923 - val_loss: 0.0490 - val_accuracy: 0.9668\n",
            "Epoch 86/100\n",
            "157/157 [==============================] - 0s 2ms/step - loss: 0.0229 - accuracy: 0.9891 - val_loss: 0.0521 - val_accuracy: 0.9490\n",
            "Epoch 87/100\n",
            "157/157 [==============================] - 0s 2ms/step - loss: 0.0219 - accuracy: 0.9872 - val_loss: 0.0523 - val_accuracy: 0.9515\n",
            "Epoch 88/100\n",
            "157/157 [==============================] - 0s 2ms/step - loss: 0.0229 - accuracy: 0.9885 - val_loss: 0.0509 - val_accuracy: 0.9566\n",
            "Epoch 89/100\n",
            "157/157 [==============================] - 0s 3ms/step - loss: 0.0218 - accuracy: 0.9885 - val_loss: 0.0551 - val_accuracy: 0.9592\n",
            "Epoch 90/100\n",
            "157/157 [==============================] - 0s 2ms/step - loss: 0.0222 - accuracy: 0.9891 - val_loss: 0.0533 - val_accuracy: 0.9592\n",
            "Epoch 91/100\n",
            "157/157 [==============================] - 0s 2ms/step - loss: 0.0214 - accuracy: 0.9885 - val_loss: 0.0510 - val_accuracy: 0.9592\n",
            "Epoch 92/100\n",
            "157/157 [==============================] - 0s 2ms/step - loss: 0.0217 - accuracy: 0.9936 - val_loss: 0.0501 - val_accuracy: 0.9566\n",
            "Epoch 93/100\n",
            "157/157 [==============================] - 0s 2ms/step - loss: 0.0212 - accuracy: 0.9879 - val_loss: 0.0533 - val_accuracy: 0.9541\n",
            "Epoch 94/100\n",
            "157/157 [==============================] - 0s 2ms/step - loss: 0.0207 - accuracy: 0.9898 - val_loss: 0.0515 - val_accuracy: 0.9566\n",
            "Epoch 95/100\n",
            "157/157 [==============================] - 0s 2ms/step - loss: 0.0202 - accuracy: 0.9911 - val_loss: 0.0496 - val_accuracy: 0.9617\n",
            "Epoch 96/100\n",
            "157/157 [==============================] - 0s 2ms/step - loss: 0.0206 - accuracy: 0.9904 - val_loss: 0.0515 - val_accuracy: 0.9617\n",
            "Epoch 97/100\n",
            "157/157 [==============================] - 0s 2ms/step - loss: 0.0197 - accuracy: 0.9917 - val_loss: 0.0498 - val_accuracy: 0.9592\n",
            "Epoch 98/100\n",
            "157/157 [==============================] - 0s 2ms/step - loss: 0.0194 - accuracy: 0.9917 - val_loss: 0.0499 - val_accuracy: 0.9541\n",
            "Epoch 99/100\n",
            "157/157 [==============================] - 0s 2ms/step - loss: 0.0203 - accuracy: 0.9898 - val_loss: 0.0509 - val_accuracy: 0.9617\n",
            "Epoch 100/100\n",
            "157/157 [==============================] - 0s 2ms/step - loss: 0.0196 - accuracy: 0.9904 - val_loss: 0.0502 - val_accuracy: 0.9541\n"
          ]
        },
        {
          "output_type": "execute_result",
          "data": {
            "text/plain": [
              "<keras.callbacks.History at 0x7f4cf5707f50>"
            ]
          },
          "metadata": {},
          "execution_count": 76
        }
      ]
    },
    {
      "cell_type": "code",
      "source": [
        ""
      ],
      "metadata": {
        "id": "f8nyFsUV4RHo"
      },
      "execution_count": null,
      "outputs": []
    }
  ]
}