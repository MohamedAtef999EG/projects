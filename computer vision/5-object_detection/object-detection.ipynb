{
 "cells": [
  {
   "cell_type": "code",
   "execution_count": null,
   "id": "86fd6523",
   "metadata": {},
   "outputs": [],
   "source": [
    "import cv2\n",
    "import numpy as np\n",
    "\n",
    "thresh = 0.5\n",
    "nmsThresh = 0.4\n",
    "\n",
    "classNames = []\n",
    "classFile = 'coco.names'\n",
    "with open(classFile,'rt') as f:\n",
    "    classNames = f.read().rstrip('\\n').split('\\n')\n",
    "\n",
    "configPath = 'ssd_mobilenet_v3_large_coco_2020_01_14.pbtxt'\n",
    "weightPath = 'frozen_inference_graph.pb'\n",
    "\n",
    "net = cv2.dnn_DetectionModel(weightPath,configPath)\n",
    "net.setInputSize(320,320)\n",
    "net.setInputScale(1.0/ 127.5)\n",
    "net.setInputMean((127.5,127.5, 127.5))\n",
    "net.setInputSwapRB(True)\n"
   ]
  },
  {
   "cell_type": "code",
   "execution_count": null,
   "id": "33dea01c",
   "metadata": {},
   "outputs": [],
   "source": [
    "img = cv2.imread('orange.jfif')\n",
    "\n",
    "classIds , confs , bbox = net.detect(img,confThreshold=thresh)\n",
    "indices = cv2.dnn.NMSBoxes(bbox,confs,thresh,nmsThresh)\n",
    "\n",
    "for i in indices:\n",
    "        box = bbox[i]\n",
    "        x, y, w, h = box[0], box[1], box[2], box[3]\n",
    "        cv2.rectangle(img, (x, y), (x + w, y + h), color=(0, 255, 0), thickness=2)\n",
    "        cv2.putText(img, classNames[classIds[i] - 1], (box[0], box[1] + 20), cv2.FONT_HERSHEY_COMPLEX, 0.6,\n",
    "                (0,255,0), 2)\n",
    "        cv2.putText(img, str(round(confs[i] * 100, 2)) + '%', (box[0], box[1] + 50), cv2.FONT_HERSHEY_COMPLEX, 0.6,\n",
    "                 (0,255,0), 2)\n",
    "\n",
    "cv2.imshow('Output',img)\n",
    "cv2.waitKey(0)\n"
   ]
  },
  {
   "cell_type": "code",
   "execution_count": null,
   "id": "ec867ed6",
   "metadata": {},
   "outputs": [],
   "source": [
    "img = cv2.imread('room.jpg')\n",
    "\n",
    "classIds , confs , bbox = net.detect(img,confThreshold=thresh)\n",
    "indices = cv2.dnn.NMSBoxes(bbox,confs,thresh,nmsThresh)\n",
    "\n",
    "for i in indices:\n",
    "        box = bbox[i]\n",
    "        x, y, w, h = box[0], box[1], box[2], box[3]\n",
    "        cv2.rectangle(img, (x, y), (x + w, y + h), color=(0, 255, 0), thickness=2)\n",
    "        cv2.putText(img, classNames[classIds[i] - 1], (box[0], box[1] + 20), cv2.FONT_HERSHEY_COMPLEX, 0.6,\n",
    "                (0,255,0), 2)\n",
    "        cv2.putText(img, str(round(confs[i] * 100, 2)) + '%', (box[0], box[1] + 50), cv2.FONT_HERSHEY_COMPLEX, 0.6,\n",
    "                 (0,255,0), 2)\n",
    "\n",
    "cv2.imshow('Output',img)\n",
    "cv2.waitKey(0)\n"
   ]
  },
  {
   "cell_type": "code",
   "execution_count": null,
   "id": "a0ccd080",
   "metadata": {},
   "outputs": [],
   "source": [
    " cap = cv2.VideoCapture(1)\n",
    "\n",
    "while True:\n",
    "     success,img = cap.read()\n",
    "img = cv2.flip(img, 1)\n",
    "classIds , confs , bbox = net.detect(img,confThreshold=thresh)\n",
    "bbox = list(bbox)\n",
    "confs = list(np.array(confs).reshape(1,-1)[0])\n",
    "confs = list(map(float,confs))\n",
    "\n",
    "indices = cv2.dnn.NMSBoxes(bbox,confs,thresh,nmsThresh)\n",
    "\n",
    "for i in indices:\n",
    "    box = bbox[i]\n",
    "x,y,w,h = box[0],box[1],box[2],box[3]\n",
    "cv2.rectangle(img, (x,y),(x+w,y+h), color=(0, 255, 0), thickness=2)\n",
    "cv2.putText(img, classNames[classIds[i]-1], (box[0], box[1] + 30), cv2.FONT_HERSHEY_COMPLEX, 0.7,\n",
    "                     (0, 255, 0), 2)\n",
    "cv2.putText(img, str(round(confs[i] * 100, 2)) + '%', (box[0], box[1] + 60), cv2.FONT_HERSHEY_COMPLEX, 0.7,\n",
    "                     (0, 255, 0), 2)\n",
    "cv2.imshow('Output',img)\n",
    "cv2.waitKey(1)"
   ]
  }
 ],
 "metadata": {
  "kernelspec": {
   "display_name": "Python 3 (ipykernel)",
   "language": "python",
   "name": "python3"
  },
  "language_info": {
   "codemirror_mode": {
    "name": "ipython",
    "version": 3
   },
   "file_extension": ".py",
   "mimetype": "text/x-python",
   "name": "python",
   "nbconvert_exporter": "python",
   "pygments_lexer": "ipython3",
   "version": "3.9.7"
  }
 },
 "nbformat": 4,
 "nbformat_minor": 5
}
